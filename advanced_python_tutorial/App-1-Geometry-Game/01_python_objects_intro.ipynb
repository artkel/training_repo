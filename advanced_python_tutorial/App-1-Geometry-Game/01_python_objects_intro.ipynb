{
 "cells": [
  {
   "cell_type": "code",
   "execution_count": 50,
   "id": "c7505171",
   "metadata": {},
   "outputs": [
    {
     "name": "stdout",
     "output_type": "stream",
     "text": [
      "43046721\n"
     ]
    }
   ],
   "source": [
    "a = 9\n",
    "b = 8\n",
    "c = a**b\n",
    "print(c)"
   ]
  },
  {
   "cell_type": "code",
   "execution_count": 52,
   "id": "142a3279",
   "metadata": {},
   "outputs": [
    {
     "name": "stdout",
     "output_type": "stream",
     "text": [
      "Collecting folium\n",
      "  Downloading folium-0.14.0-py2.py3-none-any.whl (102 kB)\n",
      "Collecting branca>=0.6.0\n",
      "  Downloading branca-0.6.0-py3-none-any.whl (24 kB)\n",
      "Requirement already satisfied: requests in c:\\tools\\anaconda3\\lib\\site-packages (from folium) (2.25.1)\n",
      "Requirement already satisfied: jinja2>=2.9 in c:\\tools\\anaconda3\\lib\\site-packages (from folium) (2.11.3)\n",
      "Requirement already satisfied: numpy in c:\\tools\\anaconda3\\lib\\site-packages (from folium) (1.24.3)\n",
      "Requirement already satisfied: MarkupSafe>=0.23 in c:\\tools\\anaconda3\\lib\\site-packages (from jinja2>=2.9->folium) (1.1.1)\n",
      "Requirement already satisfied: urllib3<1.27,>=1.21.1 in c:\\tools\\anaconda3\\lib\\site-packages (from requests->folium) (1.26.4)\n",
      "Requirement already satisfied: idna<3,>=2.5 in c:\\tools\\anaconda3\\lib\\site-packages (from requests->folium) (2.10)\n",
      "Requirement already satisfied: certifi>=2017.4.17 in c:\\tools\\anaconda3\\lib\\site-packages (from requests->folium) (2020.12.5)\n",
      "Requirement already satisfied: chardet<5,>=3.0.2 in c:\\tools\\anaconda3\\lib\\site-packages (from requests->folium) (4.0.0)\n",
      "Installing collected packages: branca, folium\n",
      "Successfully installed branca-0.6.0 folium-0.14.0\n"
     ]
    }
   ],
   "source": [
    "!pip install folium"
   ]
  },
  {
   "cell_type": "code",
   "execution_count": 53,
   "id": "300df530",
   "metadata": {},
   "outputs": [],
   "source": [
    "import folium"
   ]
  },
  {
   "cell_type": "code",
   "execution_count": 54,
   "id": "64be29b4",
   "metadata": {},
   "outputs": [],
   "source": [
    "azores = folium.folium.Map(location=(38,-27),\n",
    "                          zoom_start=6)"
   ]
  },
  {
   "cell_type": "code",
   "execution_count": 55,
   "id": "3f25c2be",
   "metadata": {},
   "outputs": [
    {
     "data": {
      "text/plain": [
       "folium.folium.Map"
      ]
     },
     "execution_count": 55,
     "metadata": {},
     "output_type": "execute_result"
    }
   ],
   "source": [
    "type(azores)"
   ]
  },
  {
   "cell_type": "code",
   "execution_count": 56,
   "id": "feb6a14c",
   "metadata": {},
   "outputs": [
    {
     "data": {
      "text/html": [
       "<div style=\"width:100%;\"><div style=\"position:relative;width:100%;height:0;padding-bottom:60%;\"><span style=\"color:#565656\">Make this Notebook Trusted to load map: File -> Trust Notebook</span><iframe srcdoc=\"&lt;!DOCTYPE html&gt;\n",
       "&lt;html&gt;\n",
       "&lt;head&gt;\n",
       "    \n",
       "    &lt;meta http-equiv=&quot;content-type&quot; content=&quot;text/html; charset=UTF-8&quot; /&gt;\n",
       "    \n",
       "        &lt;script&gt;\n",
       "            L_NO_TOUCH = false;\n",
       "            L_DISABLE_3D = false;\n",
       "        &lt;/script&gt;\n",
       "    \n",
       "    &lt;style&gt;html, body {width: 100%;height: 100%;margin: 0;padding: 0;}&lt;/style&gt;\n",
       "    &lt;style&gt;#map {position:absolute;top:0;bottom:0;right:0;left:0;}&lt;/style&gt;\n",
       "    &lt;script src=&quot;https://cdn.jsdelivr.net/npm/leaflet@1.9.3/dist/leaflet.js&quot;&gt;&lt;/script&gt;\n",
       "    &lt;script src=&quot;https://code.jquery.com/jquery-1.12.4.min.js&quot;&gt;&lt;/script&gt;\n",
       "    &lt;script src=&quot;https://cdn.jsdelivr.net/npm/bootstrap@5.2.2/dist/js/bootstrap.bundle.min.js&quot;&gt;&lt;/script&gt;\n",
       "    &lt;script src=&quot;https://cdnjs.cloudflare.com/ajax/libs/Leaflet.awesome-markers/2.0.2/leaflet.awesome-markers.js&quot;&gt;&lt;/script&gt;\n",
       "    &lt;link rel=&quot;stylesheet&quot; href=&quot;https://cdn.jsdelivr.net/npm/leaflet@1.9.3/dist/leaflet.css&quot;/&gt;\n",
       "    &lt;link rel=&quot;stylesheet&quot; href=&quot;https://cdn.jsdelivr.net/npm/bootstrap@5.2.2/dist/css/bootstrap.min.css&quot;/&gt;\n",
       "    &lt;link rel=&quot;stylesheet&quot; href=&quot;https://netdna.bootstrapcdn.com/bootstrap/3.0.0/css/bootstrap.min.css&quot;/&gt;\n",
       "    &lt;link rel=&quot;stylesheet&quot; href=&quot;https://cdn.jsdelivr.net/npm/@fortawesome/fontawesome-free@6.2.0/css/all.min.css&quot;/&gt;\n",
       "    &lt;link rel=&quot;stylesheet&quot; href=&quot;https://cdnjs.cloudflare.com/ajax/libs/Leaflet.awesome-markers/2.0.2/leaflet.awesome-markers.css&quot;/&gt;\n",
       "    &lt;link rel=&quot;stylesheet&quot; href=&quot;https://cdn.jsdelivr.net/gh/python-visualization/folium/folium/templates/leaflet.awesome.rotate.min.css&quot;/&gt;\n",
       "    \n",
       "            &lt;meta name=&quot;viewport&quot; content=&quot;width=device-width,\n",
       "                initial-scale=1.0, maximum-scale=1.0, user-scalable=no&quot; /&gt;\n",
       "            &lt;style&gt;\n",
       "                #map_4795fa171262a242d257134761b4368d {\n",
       "                    position: relative;\n",
       "                    width: 100.0%;\n",
       "                    height: 100.0%;\n",
       "                    left: 0.0%;\n",
       "                    top: 0.0%;\n",
       "                }\n",
       "                .leaflet-container { font-size: 1rem; }\n",
       "            &lt;/style&gt;\n",
       "        \n",
       "&lt;/head&gt;\n",
       "&lt;body&gt;\n",
       "    \n",
       "    \n",
       "            &lt;div class=&quot;folium-map&quot; id=&quot;map_4795fa171262a242d257134761b4368d&quot; &gt;&lt;/div&gt;\n",
       "        \n",
       "&lt;/body&gt;\n",
       "&lt;script&gt;\n",
       "    \n",
       "    \n",
       "            var map_4795fa171262a242d257134761b4368d = L.map(\n",
       "                &quot;map_4795fa171262a242d257134761b4368d&quot;,\n",
       "                {\n",
       "                    center: [38.0, -27.0],\n",
       "                    crs: L.CRS.EPSG3857,\n",
       "                    zoom: 6,\n",
       "                    zoomControl: true,\n",
       "                    preferCanvas: false,\n",
       "                }\n",
       "            );\n",
       "\n",
       "            \n",
       "\n",
       "        \n",
       "    \n",
       "            var tile_layer_943e9031766dccd47759f3ffc1d7f05e = L.tileLayer(\n",
       "                &quot;https://{s}.tile.openstreetmap.org/{z}/{x}/{y}.png&quot;,\n",
       "                {&quot;attribution&quot;: &quot;Data by \\u0026copy; \\u003ca target=\\&quot;_blank\\&quot; href=\\&quot;http://openstreetmap.org\\&quot;\\u003eOpenStreetMap\\u003c/a\\u003e, under \\u003ca target=\\&quot;_blank\\&quot; href=\\&quot;http://www.openstreetmap.org/copyright\\&quot;\\u003eODbL\\u003c/a\\u003e.&quot;, &quot;detectRetina&quot;: false, &quot;maxNativeZoom&quot;: 18, &quot;maxZoom&quot;: 18, &quot;minZoom&quot;: 0, &quot;noWrap&quot;: false, &quot;opacity&quot;: 1, &quot;subdomains&quot;: &quot;abc&quot;, &quot;tms&quot;: false}\n",
       "            ).addTo(map_4795fa171262a242d257134761b4368d);\n",
       "        \n",
       "&lt;/script&gt;\n",
       "&lt;/html&gt;\" style=\"position:absolute;width:100%;height:100%;left:0;top:0;border:none !important;\" allowfullscreen webkitallowfullscreen mozallowfullscreen></iframe></div></div>"
      ],
      "text/plain": [
       "<folium.folium.Map at 0x22b94d5ae20>"
      ]
     },
     "execution_count": 56,
     "metadata": {},
     "output_type": "execute_result"
    }
   ],
   "source": [
    "azores"
   ]
  },
  {
   "cell_type": "code",
   "execution_count": 57,
   "id": "2a307e39",
   "metadata": {},
   "outputs": [
    {
     "data": {
      "text/plain": [
       "'hi'"
      ]
     },
     "execution_count": 57,
     "metadata": {},
     "output_type": "execute_result"
    }
   ],
   "source": [
    "str(object = \"hi\")"
   ]
  },
  {
   "cell_type": "markdown",
   "id": "4115b837",
   "metadata": {},
   "source": [
    "## Project 1: Geometry Game"
   ]
  },
  {
   "cell_type": "markdown",
   "id": "6d16f84b",
   "metadata": {},
   "source": [
    "### creating a class"
   ]
  },
  {
   "cell_type": "code",
   "execution_count": 58,
   "id": "32f7a430",
   "metadata": {},
   "outputs": [],
   "source": [
    "class Point: \n",
    "    \n",
    "    def __init__(self, x, y): # special __init__ method to initialize the object\n",
    "        self.x = x\n",
    "        self.y = y"
   ]
  },
  {
   "cell_type": "code",
   "execution_count": 59,
   "id": "61b55183",
   "metadata": {},
   "outputs": [],
   "source": [
    "point1 = Point(10, 20)"
   ]
  },
  {
   "cell_type": "code",
   "execution_count": 60,
   "id": "8582dcd5",
   "metadata": {},
   "outputs": [
    {
     "data": {
      "text/plain": [
       "__main__.Point"
      ]
     },
     "execution_count": 60,
     "metadata": {},
     "output_type": "execute_result"
    }
   ],
   "source": [
    "type(point1)"
   ]
  },
  {
   "cell_type": "code",
   "execution_count": 64,
   "id": "7b1262b2",
   "metadata": {},
   "outputs": [],
   "source": [
    "class Person:\n",
    "    \n",
    "    def __init__(self, name, age): # special __init__ method to initialize the object\n",
    "        self.name = name\n",
    "        self.age = age"
   ]
  },
  {
   "cell_type": "code",
   "execution_count": 66,
   "id": "506757d0",
   "metadata": {},
   "outputs": [
    {
     "data": {
      "text/plain": [
       "'John'"
      ]
     },
     "execution_count": 66,
     "metadata": {},
     "output_type": "execute_result"
    }
   ],
   "source": [
    "person1 = Person('John', 22)\n",
    "person1.name"
   ]
  },
  {
   "cell_type": "code",
   "execution_count": null,
   "id": "7240cc11",
   "metadata": {},
   "outputs": [],
   "source": []
  },
  {
   "cell_type": "code",
   "execution_count": null,
   "id": "d854fe69",
   "metadata": {},
   "outputs": [],
   "source": []
  },
  {
   "cell_type": "markdown",
   "id": "a5b7b31e",
   "metadata": {},
   "source": [
    "### creating objects from a class"
   ]
  },
  {
   "cell_type": "code",
   "execution_count": 62,
   "id": "0562da7d",
   "metadata": {},
   "outputs": [],
   "source": [
    "point1 = Point(10, 20)\n",
    "point2 = Point(11, 22)\n",
    "point3 = Point(12, 24)"
   ]
  },
  {
   "cell_type": "code",
   "execution_count": 67,
   "id": "e12b9bc7",
   "metadata": {},
   "outputs": [
    {
     "name": "stdout",
     "output_type": "stream",
     "text": [
      "11 22\n"
     ]
    }
   ],
   "source": [
    "print(point2.x, point2.y)"
   ]
  },
  {
   "cell_type": "markdown",
   "id": "8a1bd044",
   "metadata": {},
   "source": [
    "### creating a method"
   ]
  },
  {
   "cell_type": "code",
   "execution_count": 68,
   "id": "8e7befbe",
   "metadata": {},
   "outputs": [],
   "source": [
    "class Point: \n",
    "    \n",
    "    def __init__(self, x, y): # special __init__ method to initialize the object\n",
    "        self.x = x\n",
    "        self.y = y\n",
    "        \n",
    "    def falls_in_rectangle(self, lowleft, upright):\n",
    "        if lowleft[0] < self.x < upright[0] \\\n",
    "        and lowleft[1] < self.y < upright[1]:\n",
    "            return True\n",
    "        else:\n",
    "            return False"
   ]
  },
  {
   "cell_type": "code",
   "execution_count": 69,
   "id": "ecd672a5",
   "metadata": {},
   "outputs": [],
   "source": [
    "point4 = Point(3, 4)"
   ]
  },
  {
   "cell_type": "code",
   "execution_count": 70,
   "id": "91b2db66",
   "metadata": {},
   "outputs": [
    {
     "data": {
      "text/plain": [
       "False"
      ]
     },
     "execution_count": 70,
     "metadata": {},
     "output_type": "execute_result"
    }
   ],
   "source": [
    "point4.falls_in_rectangle((5, 6), (7, 9))"
   ]
  },
  {
   "cell_type": "code",
   "execution_count": 71,
   "id": "02f13529",
   "metadata": {},
   "outputs": [
    {
     "data": {
      "text/plain": [
       "True"
      ]
     },
     "execution_count": 71,
     "metadata": {},
     "output_type": "execute_result"
    }
   ],
   "source": [
    "Point(3,4).falls_in_rectangle((1,1), (6,6))"
   ]
  },
  {
   "cell_type": "markdown",
   "id": "de4376ad",
   "metadata": {},
   "source": [
    "### __init__ Method vs Normal Method"
   ]
  },
  {
   "cell_type": "code",
   "execution_count": 72,
   "id": "26723866",
   "metadata": {},
   "outputs": [],
   "source": [
    "class Point: \n",
    "    \n",
    "    def __init__(self, x, y): # special __init__ method to initialize the object\n",
    "        print(\"Hey, I am __init__!\")\n",
    "        self.x = x\n",
    "        self.y = y\n",
    "        \n",
    "    def falls_in_rectangle(self, lowleft, upright):\n",
    "        print(\"I am ordinary!\")\n",
    "        if lowleft[0] < self.x < upright[0] \\\n",
    "        and lowleft[1] < self.y < upright[1]:\n",
    "            return True\n",
    "        else:\n",
    "            return False"
   ]
  },
  {
   "cell_type": "code",
   "execution_count": 73,
   "id": "75e74ac9",
   "metadata": {},
   "outputs": [
    {
     "name": "stdout",
     "output_type": "stream",
     "text": [
      "Hey, I am __init__!\n"
     ]
    }
   ],
   "source": [
    "point = Point(7,8)"
   ]
  },
  {
   "cell_type": "code",
   "execution_count": 74,
   "id": "cb70564b",
   "metadata": {},
   "outputs": [
    {
     "name": "stdout",
     "output_type": "stream",
     "text": [
      "I am ordinary!\n"
     ]
    },
    {
     "data": {
      "text/plain": [
       "False"
      ]
     },
     "execution_count": 74,
     "metadata": {},
     "output_type": "execute_result"
    }
   ],
   "source": [
    "point.falls_in_rectangle((4,4), (12,7))"
   ]
  },
  {
   "cell_type": "markdown",
   "id": "0c15b1a9",
   "metadata": {},
   "source": [
    "### creating the Distance method"
   ]
  },
  {
   "cell_type": "code",
   "execution_count": 78,
   "id": "a7654ecf",
   "metadata": {},
   "outputs": [],
   "source": [
    "class Point: \n",
    "    \n",
    "    def __init__(self, x, y): # special __init__ method to initialize the object\n",
    "        self.x = x\n",
    "        self.y = y\n",
    "        \n",
    "    def falls_in_rectangle(self, lowleft, upright):\n",
    "        if lowleft[0] < self.x < upright[0] \\\n",
    "        and lowleft[1] < self.y < upright[1]:\n",
    "            return True\n",
    "        else:\n",
    "            return False\n",
    "        \n",
    "    def distance_from_point(self, point):\n",
    "        return ((self.x - point.x)**2 + (self.y - point.y)**2)**.5\n",
    "        "
   ]
  },
  {
   "cell_type": "code",
   "execution_count": 79,
   "id": "f6027372",
   "metadata": {},
   "outputs": [],
   "source": [
    "point1 = Point(1,1)\n",
    "point2 = Point(3,6)"
   ]
  },
  {
   "cell_type": "code",
   "execution_count": 81,
   "id": "a9a36b9e",
   "metadata": {},
   "outputs": [
    {
     "name": "stdout",
     "output_type": "stream",
     "text": [
      "5.385164807134504\n"
     ]
    }
   ],
   "source": [
    "distance = point1.distance_from_point(point2)\n",
    "print(distance)"
   ]
  },
  {
   "cell_type": "code",
   "execution_count": 77,
   "id": "c795e659",
   "metadata": {},
   "outputs": [
    {
     "data": {
      "text/plain": [
       "2.23606797749979"
      ]
     },
     "execution_count": 77,
     "metadata": {},
     "output_type": "execute_result"
    }
   ],
   "source": [
    "Point(1,1).distance_from_point(3,2)"
   ]
  },
  {
   "cell_type": "code",
   "execution_count": 82,
   "id": "4b7901c2",
   "metadata": {},
   "outputs": [],
   "source": [
    "class Rectangle:\n",
    "    \n",
    "    def __init__(self, lowleft, upright):\n",
    "        self.lowleft = lowleft\n",
    "        self.upright = upright"
   ]
  },
  {
   "cell_type": "code",
   "execution_count": 83,
   "id": "a57553ac",
   "metadata": {},
   "outputs": [],
   "source": [
    "pointx = Point(6,7)"
   ]
  },
  {
   "cell_type": "code",
   "execution_count": 84,
   "id": "8fc7d636",
   "metadata": {},
   "outputs": [],
   "source": [
    "rectanglex = Rectangle(Point(5,6), Point(7,9))"
   ]
  },
  {
   "cell_type": "code",
   "execution_count": 85,
   "id": "29fe1832",
   "metadata": {},
   "outputs": [
    {
     "ename": "TypeError",
     "evalue": "falls_in_rectangle() missing 1 required positional argument: 'upright'",
     "output_type": "error",
     "traceback": [
      "\u001b[1;31m---------------------------------------------------------------------------\u001b[0m",
      "\u001b[1;31mTypeError\u001b[0m                                 Traceback (most recent call last)",
      "\u001b[1;32m<ipython-input-85-44d9074e3a79>\u001b[0m in \u001b[0;36m<module>\u001b[1;34m\u001b[0m\n\u001b[1;32m----> 1\u001b[1;33m \u001b[0mpointx\u001b[0m\u001b[1;33m.\u001b[0m\u001b[0mfalls_in_rectangle\u001b[0m\u001b[1;33m(\u001b[0m\u001b[0mrectanglex\u001b[0m\u001b[1;33m)\u001b[0m\u001b[1;33m\u001b[0m\u001b[1;33m\u001b[0m\u001b[0m\n\u001b[0m",
      "\u001b[1;31mTypeError\u001b[0m: falls_in_rectangle() missing 1 required positional argument: 'upright'"
     ]
    }
   ],
   "source": [
    "pointx.falls_in_rectangle(rectanglex)"
   ]
  },
  {
   "cell_type": "code",
   "execution_count": 91,
   "id": "888dd687",
   "metadata": {},
   "outputs": [],
   "source": [
    "class Point: \n",
    "    \n",
    "    def __init__(self, x, y): # special __init__ method to initialize the object\n",
    "        self.x = x\n",
    "        self.y = y\n",
    "        \n",
    "    def falls_in_rectangle(self, rectangle):\n",
    "        if rectangle.lowleft.x < self.x < rectangle.upright.x \\\n",
    "        and rectangle.lowleft.y < self.y < rectangle.upright.y:\n",
    "            return True\n",
    "        else:\n",
    "            return False\n",
    "        \n",
    "    def distance_from_point(self, point):\n",
    "        return ((self.x - point.x)**2 + (self.y - point.y)**2)**.5\n",
    "        "
   ]
  },
  {
   "cell_type": "code",
   "execution_count": 92,
   "id": "97352673",
   "metadata": {},
   "outputs": [],
   "source": [
    "pointx = Point(6,7)"
   ]
  },
  {
   "cell_type": "code",
   "execution_count": 93,
   "id": "767bc2ef",
   "metadata": {},
   "outputs": [],
   "source": [
    "rectanglex = Rectangle(Point(5,6), Point(7,9))"
   ]
  },
  {
   "cell_type": "code",
   "execution_count": 94,
   "id": "f9467ef5",
   "metadata": {},
   "outputs": [
    {
     "data": {
      "text/plain": [
       "True"
      ]
     },
     "execution_count": 94,
     "metadata": {},
     "output_type": "execute_result"
    }
   ],
   "source": [
    "pointx.falls_in_rectangle(rectanglex)"
   ]
  },
  {
   "cell_type": "markdown",
   "id": "e241dd0b",
   "metadata": {},
   "source": [
    "### wrapping up"
   ]
  },
  {
   "cell_type": "code",
   "execution_count": 96,
   "id": "a9f9c514",
   "metadata": {},
   "outputs": [],
   "source": [
    "# backend\n",
    "class Point: \n",
    "    \n",
    "    def __init__(self, x, y): # special __init__ method to initialize the object\n",
    "        self.x = x\n",
    "        self.y = y\n",
    "        \n",
    "    def falls_in_rectangle(self, rectangle):\n",
    "        if rectangle.lowleft.x < self.x < rectangle.upright.x \\\n",
    "        and rectangle.lowleft.y < self.y < rectangle.upright.y:\n",
    "            return True\n",
    "        else:\n",
    "            return False\n",
    "        \n",
    "class Rectangle:\n",
    "    \n",
    "    def __init__(self, lowleft, upright):\n",
    "        self.lowleft = lowleft\n",
    "        self.upright = upright"
   ]
  },
  {
   "cell_type": "code",
   "execution_count": 95,
   "id": "ec03b6e9",
   "metadata": {},
   "outputs": [],
   "source": [
    "from random import randint"
   ]
  },
  {
   "cell_type": "code",
   "execution_count": 102,
   "id": "c5cea4f5",
   "metadata": {},
   "outputs": [
    {
     "name": "stdout",
     "output_type": "stream",
     "text": [
      "Rectangle Coordinates:  2 , 3 and 16 , 14 .\n",
      "Guess X: 4\n",
      "Guess Y: 5\n",
      "Your point was inside rectangle:  True\n"
     ]
    }
   ],
   "source": [
    "# frontend (user interface)\n",
    "rectangle = Rectangle(\n",
    "    Point(randint(0,9), randint(0,9)),\n",
    "    Point(randint(10,19), randint(10,19))\n",
    "    )\n",
    "\n",
    "print(\"Rectangle Coordinates: \",\n",
    "      rectangle.lowleft.x, \",\",\n",
    "      rectangle.lowleft.y, \"and\",\n",
    "      rectangle.upright.x, \",\",\n",
    "      rectangle.upright.y, \".\")\n",
    "\n",
    "user_point = Point(float(input('Guess X: ')),\n",
    "                   float(input('Guess Y: ')))\n",
    "\n",
    "print(\"Your point was inside rectangle: \",\n",
    "         user_point.falls_in_rectangle(rectangle))"
   ]
  },
  {
   "cell_type": "markdown",
   "id": "48192090",
   "metadata": {},
   "source": [
    "### new feature: guess area of the rectangle"
   ]
  },
  {
   "cell_type": "code",
   "execution_count": 103,
   "id": "f20ab518",
   "metadata": {},
   "outputs": [],
   "source": [
    "class Point: \n",
    "    \n",
    "    def __init__(self, x, y): # special __init__ method to initialize the object\n",
    "        self.x = x\n",
    "        self.y = y\n",
    "        \n",
    "    def falls_in_rectangle(self, rectangle):\n",
    "        if rectangle.lowleft.x < self.x < rectangle.upright.x \\\n",
    "        and rectangle.lowleft.y < self.y < rectangle.upright.y:\n",
    "            return True\n",
    "        else:\n",
    "            return False\n",
    "        \n",
    "class Rectangle:\n",
    "    \n",
    "    def __init__(self, lowleft, upright):\n",
    "        self.lowleft = lowleft\n",
    "        self.upright = upright\n",
    "        \n",
    "    def area(self):\n",
    "        return (self.upright.x - self.lowleft.x) * \\\n",
    "                (self.upright.y - self.lowleft.y)"
   ]
  },
  {
   "cell_type": "code",
   "execution_count": 104,
   "id": "64436d4d",
   "metadata": {},
   "outputs": [
    {
     "name": "stdout",
     "output_type": "stream",
     "text": [
      "Rectangle Coordinates:  1 , 7 and 11 , 17 .\n",
      "Guess X: 3\n",
      "Guess Y: 6\n",
      "Guess rectangle area: 15\n",
      "Your point was inside rectangle:  False\n",
      "Your area was off by:  85.0\n"
     ]
    }
   ],
   "source": [
    "# frontend (user interface)\n",
    "rectangle = Rectangle(\n",
    "    Point(randint(0,9), randint(0,9)),\n",
    "    Point(randint(10,19), randint(10,19))\n",
    "    )\n",
    "\n",
    "print(\"Rectangle Coordinates: \",\n",
    "      rectangle.lowleft.x, \",\",\n",
    "      rectangle.lowleft.y, \"and\",\n",
    "      rectangle.upright.x, \",\",\n",
    "      rectangle.upright.y, \".\")\n",
    "\n",
    "user_point = Point(float(input('Guess X: ')),\n",
    "                   float(input('Guess Y: ')))\n",
    "\n",
    "user_area = float(input(\"Guess rectangle area: \"))\n",
    "\n",
    "print(\"Your point was inside rectangle: \",\n",
    "         user_point.falls_in_rectangle(rectangle))\n",
    "\n",
    "print(\"Your area was off by: \",\n",
    "         rectangle.area() - user_area)"
   ]
  }
 ],
 "metadata": {
  "kernelspec": {
   "display_name": "Python 3",
   "language": "python",
   "name": "python3"
  },
  "language_info": {
   "codemirror_mode": {
    "name": "ipython",
    "version": 3
   },
   "file_extension": ".py",
   "mimetype": "text/x-python",
   "name": "python",
   "nbconvert_exporter": "python",
   "pygments_lexer": "ipython3",
   "version": "3.8.8"
  }
 },
 "nbformat": 4,
 "nbformat_minor": 5
}
